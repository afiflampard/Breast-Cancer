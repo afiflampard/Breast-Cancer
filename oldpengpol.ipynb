{
 "cells": [
  {
   "cell_type": "markdown",
   "metadata": {},
   "source": [
    "# Projek Akhir Pengenalan Pola"
   ]
  },
  {
   "cell_type": "markdown",
   "metadata": {},
   "source": [
    "Nama:\n",
    "1. AFIF MUSYAYYIDIN \n",
    "2. ADHIPRAMANA RAIHAN YUTHADI\n",
    "3. I KADEK YOGA DARMA PUTRA\n",
    "4. RIEFQI ARDHYA BISMA\n",
    "5. RADITYA RINANDYASWARA"
   ]
  },
  {
   "cell_type": "markdown",
   "metadata": {},
   "source": [
    "### Impor modul yang diperlukan"
   ]
  },
  {
   "cell_type": "markdown",
   "metadata": {},
   "source": [
    "Modul yang diperlukan untuk menjalankan kode program dibawah ini adalah pandas, statistics, scipy, math, numpy, dan matplotlib."
   ]
  },
  {
   "cell_type": "code",
   "execution_count": 130,
   "metadata": {},
   "outputs": [],
   "source": [
    "import pandas as pd\n",
    "import statistics as sta\n",
    "from scipy.stats import norm\n",
    "import math\n",
    "from math import sqrt\n",
    "import numpy as np\n",
    "import matplotlib.pyplot as plt"
   ]
  },
  {
   "cell_type": "markdown",
   "metadata": {},
   "source": [
    "## Fase Training"
   ]
  },
  {
   "cell_type": "markdown",
   "metadata": {},
   "source": [
    "### 1. Impor dataset yang digunakan untuk klasifikasi"
   ]
  },
  {
   "cell_type": "markdown",
   "metadata": {},
   "source": [
    "Dataset yang digunakan merupakan data pasien yang terkena kanker dalam bentuk csv."
   ]
  },
  {
   "cell_type": "code",
   "execution_count": 131,
   "metadata": {},
   "outputs": [
    {
     "name": "stdout",
     "output_type": "stream",
     "text": [
      "     clump_thickness  uniformity_of_cell_size  uniformity_of_cell_shape  \\\n",
      "0                  5                        1                         1   \n",
      "1                  5                        4                         4   \n",
      "2                  3                        1                         1   \n",
      "3                  6                        8                         8   \n",
      "4                  4                        1                         1   \n",
      "..               ...                      ...                       ...   \n",
      "395                3                        1                         1   \n",
      "396                3                        1                         1   \n",
      "397                4                        1                         1   \n",
      "398                3                        2                         1   \n",
      "399                1                        2                         3   \n",
      "\n",
      "     marginal_adhesion  single_epithelial_cell_size  bare_nuclei  \\\n",
      "0                    1                            2            1   \n",
      "1                    5                            7           10   \n",
      "2                    1                            2            2   \n",
      "3                    1                            3            4   \n",
      "4                    3                            2            1   \n",
      "..                 ...                          ...          ...   \n",
      "395                  1                            2            1   \n",
      "396                  1                            2            1   \n",
      "397                  1                            2            1   \n",
      "398                  1                            2            1   \n",
      "399                  1                            2            1   \n",
      "\n",
      "     bland_chromatin  normal_nucleoli  mitosis  kelas  \n",
      "0                  3                1        1      2  \n",
      "1                  3                2        1      2  \n",
      "2                  3                1        1      2  \n",
      "3                  3                7        1      2  \n",
      "4                  3                1        1      2  \n",
      "..               ...              ...      ...    ...  \n",
      "395                2                1        1      2  \n",
      "396                3                1        1      2  \n",
      "397                1                1        1      2  \n",
      "398                2                2        1      2  \n",
      "399                1                1        1      2  \n",
      "\n",
      "[400 rows x 10 columns]\n"
     ]
    }
   ],
   "source": [
    "data = pd.read_csv(\"/Users/radityarin/Documents/Kuliah/Pattern Recognition/Projek/training.csv\",sep=';')\n",
    "print(data)"
   ]
  },
  {
   "cell_type": "markdown",
   "metadata": {},
   "source": [
    "### 2. Pengelompokkan Data Berdasarkan Kelasnya dan Mencari Nilai Prior"
   ]
  },
  {
   "attachments": {
    "1.PNG": {
     "image/png": "[encoded data removed]"
    }
   },
   "cell_type": "markdown",
   "metadata": {},
   "source": [
    "Terdapat dua buah kelas pada dataset ini yaitu kelas 2 dan 4. Untuk mencari nilai prior rumus yang digunakan adalah :\n",
    "![1.PNG](attachment:1.PNG)\n",
    "Dimana: <br>\n",
    "Nx = Jumlah data pada kelas x <br>\n",
    "N  = Jumlah seluruh data "
   ]
  },
  {
   "cell_type": "code",
   "execution_count": 132,
   "metadata": {},
   "outputs": [],
   "source": [
    "clump_thickness_2 = []\n",
    "clump_thickness_4 = []\n",
    "\n",
    "uniformity_of_cell_size_2 = []\n",
    "uniformity_of_cell_size_4 = []\n",
    "\n",
    "uniformity_of_cell_shape_2 = []\n",
    "uniformity_of_cell_shape_4 = []\n",
    "\n",
    "marginal_adhesion_2 = []\n",
    "marginal_adhesion_4 = []\n",
    "\n",
    "single_epithelial_cell_size_2 = []\n",
    "single_epithelial_cell_size_4 = []\n",
    "\n",
    "bare_nuclei_2 = []\n",
    "bare_nuclei_4 = []\n",
    "\n",
    "bland_chromatin_2 = []\n",
    "bland_chromatin_4 = []\n",
    "\n",
    "normal_nucleoli_2 = []\n",
    "normal_nucleoli_4 = []\n",
    "\n",
    "mitosis_2 = []\n",
    "mitosis_4 = []\n",
    "\n",
    "\n",
    "for i in range(len(data.kelas)):\n",
    "    if data.kelas[i] == 2:\n",
    "        clump_thickness_2.append(data.clump_thickness[i])\n",
    "        uniformity_of_cell_size_2.append(data.uniformity_of_cell_size[i])\n",
    "        uniformity_of_cell_shape_2.append(data.uniformity_of_cell_shape[i])\n",
    "        marginal_adhesion_2.append(data.marginal_adhesion[i])\n",
    "        single_epithelial_cell_size_2.append(data.single_epithelial_cell_size[i])\n",
    "        bare_nuclei_2.append(data.bare_nuclei[i])\n",
    "        bland_chromatin_2.append(data.bland_chromatin[i])\n",
    "        normal_nucleoli_2.append(data.normal_nucleoli[i])\n",
    "        mitosis_2.append(data.mitosis[i])\n",
    "    else:\n",
    "        clump_thickness_4.append(data.clump_thickness[i])\n",
    "        uniformity_of_cell_size_4.append(data.uniformity_of_cell_size[i])\n",
    "        uniformity_of_cell_shape_4.append(data.uniformity_of_cell_shape[i])\n",
    "        marginal_adhesion_4.append(data.marginal_adhesion[i])\n",
    "        single_epithelial_cell_size_4.append(data.single_epithelial_cell_size[i])\n",
    "        bare_nuclei_4.append(data.bare_nuclei[i])\n",
    "        bland_chromatin_4.append(data.bland_chromatin[i])\n",
    "        normal_nucleoli_4.append(data.normal_nucleoli[i])\n",
    "        mitosis_4.append(data.mitosis[i])\n",
    "\n",
    "\n",
    "prior_2 = len(clump_thickness_2)/len(data.kelas)\n",
    "prior_4 = len(clump_thickness_4)/len(data.kelas)"
   ]
  },
  {
   "cell_type": "markdown",
   "metadata": {},
   "source": [
    "### 3. Mencari Rata-Rata dan Standar Deviasi"
   ]
  },
  {
   "cell_type": "markdown",
   "metadata": {},
   "source": [
    "Untuk mengklasifikasikan data kontinyu menggunakan metode Naive Bayes, harus dicari rata-rata (mean) dan standar deviasi. Rata-rata dan standar deviasi dihitung sebanyak jumlah fitur(kolom) yang ada pada dataset. "
   ]
  },
  {
   "cell_type": "code",
   "execution_count": 133,
   "metadata": {},
   "outputs": [],
   "source": [
    "def mean(numbers):\n",
    "    return sum(numbers)/float(len(numbers))\n",
    "\n",
    "def stdev(numbers):\n",
    "    avg = mean(numbers)\n",
    "    variance = sum([(x-avg)**2 for x in numbers]) / float(len(numbers)-1)\n",
    "    return sqrt(variance)"
   ]
  },
  {
   "cell_type": "code",
   "execution_count": 134,
   "metadata": {},
   "outputs": [],
   "source": [
    "mean_clump_thickness_2 = mean(clump_thickness_2)\n",
    "std_clump_thickness_2 = stdev(clump_thickness_2)\n",
    "\n",
    "mean_uniformity_of_cell_size_2 = mean(uniformity_of_cell_size_2)\n",
    "std_uniformity_of_cell_size_2 = stdev(uniformity_of_cell_size_2)\n",
    "\n",
    "mean_uniformity_of_cell_shape_2 = mean(uniformity_of_cell_shape_2)\n",
    "std_uniformity_of_cell_shape_2 = stdev(uniformity_of_cell_shape_2)\n",
    "\n",
    "mean_marginal_adhesion_2 = mean(marginal_adhesion_2)\n",
    "std_marginal_adhesion_2 = stdev(marginal_adhesion_2)\n",
    "\n",
    "mean_single_epithelial_cell_size_2 = mean(single_epithelial_cell_size_2)\n",
    "std_single_epithelial_cell_size_2 = stdev(single_epithelial_cell_size_2)\n",
    "\n",
    "mean_bare_nuclei_2 = mean(bare_nuclei_2)\n",
    "std_bare_nuclei_2 = stdev(bare_nuclei_2)\n",
    "\n",
    "mean_bland_chromatin_2 = mean(bland_chromatin_2)\n",
    "std_bland_chromatin_2 = stdev(bland_chromatin_2)\n",
    "\n",
    "mean_normal_nucleoli_2 = mean(normal_nucleoli_2)\n",
    "std_normal_nucleoli_2 = stdev(normal_nucleoli_2)\n",
    "\n",
    "mean_mitosis_2 = mean(mitosis_2)\n",
    "std_mitosis_2 = stdev(mitosis_2)\n",
    "\n",
    "mean_clump_thickness_4 = mean(clump_thickness_4)\n",
    "std_clump_thickness_4 = stdev(clump_thickness_4)\n",
    "\n",
    "mean_uniformity_of_cell_size_4 = mean(uniformity_of_cell_size_4)\n",
    "std_uniformity_of_cell_size_4 = stdev(uniformity_of_cell_size_4)\n",
    "\n",
    "mean_uniformity_of_cell_shape_4 = mean(uniformity_of_cell_shape_4)\n",
    "std_uniformity_of_cell_shape_4 = stdev(uniformity_of_cell_shape_4)\n",
    "\n",
    "mean_marginal_adhesion_4 = mean(marginal_adhesion_4)\n",
    "std_marginal_adhesion_4 = stdev(marginal_adhesion_4)\n",
    "\n",
    "mean_single_epithelial_cell_size_4 = mean(single_epithelial_cell_size_4)\n",
    "std_single_epithelial_cell_size_4 = stdev(single_epithelial_cell_size_4)\n",
    "\n",
    "mean_bare_nuclei_4 = mean(bare_nuclei_4)\n",
    "std_bare_nuclei_4 = stdev(bare_nuclei_4)\n",
    "\n",
    "mean_bland_chromatin_4 = mean(bland_chromatin_4)\n",
    "std_bland_chromatin_4 = stdev(bland_chromatin_4)\n",
    "\n",
    "mean_normal_nucleoli_4 = mean(normal_nucleoli_4)\n",
    "std_normal_nucleoli_4 = stdev(normal_nucleoli_4)\n",
    "\n",
    "mean_mitosis_4 = mean(mitosis_4)\n",
    "std_mitosis_4 = stdev(mitosis_4)"
   ]
  },
  {
   "cell_type": "markdown",
   "metadata": {},
   "source": [
    "### 5. Menghitung Nilai Likelihood"
   ]
  },
  {
   "attachments": {
    "2.PNG": {
     "image/png": "[encoded data removed]"
    }
   },
   "cell_type": "markdown",
   "metadata": {},
   "source": [
    "Langkah selanjutnya adalah menghitung nilai likelihood untuk setiap fitur yang ada pada tiap-tiap kelas. Berikut adalah rumus perhitunganya:\n",
    "![2.PNG](attachment:2.PNG)\n",
    "Dimana: <br>\n",
    "σ = Nilai standar deviasi <br>\n",
    "μ = Nilai rata-rata <br>\n",
    "x = Nilai pada fitur"
   ]
  },
  {
   "cell_type": "code",
   "execution_count": 135,
   "metadata": {},
   "outputs": [],
   "source": [
    "dataT = pd.read_csv(\"/Users/radityarin/Documents/Kuliah/Pattern Recognition/Projek/testing.csv\",sep=';')"
   ]
  },
  {
   "cell_type": "code",
   "execution_count": 136,
   "metadata": {},
   "outputs": [],
   "source": [
    "def calculate_probability(x, mean, stdev):\n",
    "    exponent = math.exp(-((x-mean)**2 / (2 * stdev**2 )))\n",
    "    return (1 / (sqrt(2 * 3.14) * stdev)) * exponent"
   ]
  },
  {
   "cell_type": "code",
   "execution_count": 170,
   "metadata": {},
   "outputs": [],
   "source": [
    "likelihood_clump_thickness_2 = []\n",
    "likelihood_uniformity_of_cell_size_2 = []\n",
    "likelihood_uniformity_of_cell_shape_2 = []\n",
    "likelihood_marginal_adhesion_2 = []\n",
    "likelihood_single_epithelial_cell_size_2 = []\n",
    "likelihood_bare_nuclei_2 = []\n",
    "likelihood_bland_chromatin_2 = []\n",
    "likelihood_normal_nucleoli_2 = []\n",
    "likelihood_mitosis_2 = []\n",
    "\n",
    "likelihood_clump_thickness_4 = []\n",
    "likelihood_uniformity_of_cell_size_4 = []\n",
    "likelihood_uniformity_of_cell_shape_4 = []\n",
    "likelihood_marginal_adhesion_4 = []\n",
    "likelihood_single_epithelial_cell_size_4 = []\n",
    "likelihood_bare_nuclei_4 = []\n",
    "likelihood_bland_chromatin_4 = []\n",
    "likelihood_normal_nucleoli_4 = []\n",
    "likelihood_mitosis_4 = []\n",
    "\n",
    "for i in range(len(dataT.mitosis)) :\n",
    "    likelihood_clump_thickness_2.append(calculate_probability(dataT.clump_thickness[i],mean_clump_thickness_2,std_clump_thickness_2))\n",
    "    likelihood_uniformity_of_cell_size_2.append(calculate_probability(dataT.uniformity_of_cell_size[i],mean_uniformity_of_cell_size_2,std_uniformity_of_cell_size_2))\n",
    "    likelihood_uniformity_of_cell_shape_2.append(calculate_probability(dataT.uniformity_of_cell_shape[i],mean_uniformity_of_cell_shape_2,std_uniformity_of_cell_shape_2))\n",
    "    likelihood_marginal_adhesion_2.append(calculate_probability(dataT.marginal_adhesion[i],mean_marginal_adhesion_2,std_marginal_adhesion_2))\n",
    "    likelihood_single_epithelial_cell_size_2.append(calculate_probability(dataT.single_epithelial_cell_size[i],mean_single_epithelial_cell_size_2,std_single_epithelial_cell_size_2))\n",
    "    likelihood_bare_nuclei_2.append(calculate_probability(dataT.bare_nuclei[i],mean_bare_nuclei_2,std_bare_nuclei_2))\n",
    "    likelihood_bland_chromatin_2.append(calculate_probability(dataT.bland_chromatin[i],mean_bland_chromatin_2,std_bland_chromatin_2))\n",
    "    likelihood_normal_nucleoli_2.append(calculate_probability(dataT.normal_nucleoli[i],mean_normal_nucleoli_2,std_normal_nucleoli_2))\n",
    "    likelihood_mitosis_2.append(calculate_probability(dataT.mitosis[i],mean_mitosis_2,std_mitosis_2))\n",
    "\n",
    "    likelihood_clump_thickness_4.append(calculate_probability(dataT.clump_thickness[i],mean_clump_thickness_4,std_clump_thickness_4))\n",
    "    likelihood_uniformity_of_cell_size_4.append(calculate_probability(dataT.uniformity_of_cell_size[i],mean_uniformity_of_cell_size_4,std_uniformity_of_cell_size_4))\n",
    "    likelihood_uniformity_of_cell_shape_4.append(calculate_probability(dataT.uniformity_of_cell_shape[i],mean_uniformity_of_cell_shape_4,std_uniformity_of_cell_shape_4))\n",
    "    likelihood_marginal_adhesion_4.append(calculate_probability(dataT.marginal_adhesion[i],mean_marginal_adhesion_4,std_marginal_adhesion_4))\n",
    "    likelihood_single_epithelial_cell_size_4.append(calculate_probability(dataT.single_epithelial_cell_size[i],mean_single_epithelial_cell_size_4,std_single_epithelial_cell_size_4))\n",
    "    likelihood_bare_nuclei_4.append(calculate_probability(dataT.bare_nuclei[i],mean_bare_nuclei_4,std_bare_nuclei_4))\n",
    "    likelihood_bland_chromatin_4.append(calculate_probability(dataT.bland_chromatin[i],mean_bland_chromatin_4,std_bland_chromatin_4))\n",
    "    likelihood_normal_nucleoli_4.append(calculate_probability(dataT.normal_nucleoli[i],mean_normal_nucleoli_4,std_normal_nucleoli_4))\n",
    "    likelihood_mitosis_4.append(calculate_probability(dataT.mitosis[i],mean_mitosis_4,std_mitosis_4))\n"
   ]
  },
  {
   "cell_type": "markdown",
   "metadata": {},
   "source": [
    "## Fase Testing"
   ]
  },
  {
   "cell_type": "markdown",
   "metadata": {},
   "source": [
    "### 1. Melakukan Plotting Data "
   ]
  },
  {
   "cell_type": "markdown",
   "metadata": {},
   "source": [
    "Plotting dilakukan untuk mengetahui distribusi data pada tiap-tiap fitur yang ada didalam data yang akan diuji."
   ]
  },
  {
   "cell_type": "code",
   "execution_count": 138,
   "metadata": {
    "scrolled": true
   },
   "outputs": [],
   "source": [
    "test_clump_thickness_2 = []\n",
    "test_clump_thickness_4 = []\n",
    "\n",
    "test_uniformity_of_cell_size_2 = []\n",
    "test_uniformity_of_cell_size_4 = []\n",
    "\n",
    "test_uniformity_of_cell_shape_2 = []\n",
    "test_uniformity_of_cell_shape_4 = []\n",
    "\n",
    "test_marginal_adhesion_2 = []\n",
    "test_marginal_adhesion_4 = []\n",
    "\n",
    "test_single_epithelial_cell_size_2 = []\n",
    "test_single_epithelial_cell_size_4 = []\n",
    "\n",
    "test_bare_nuclei_2 = []\n",
    "test_bare_nuclei_4 = []\n",
    "\n",
    "test_bland_chromatin_2 = []\n",
    "test_bland_chromatin_4 = []\n",
    "\n",
    "test_normal_nucleoli_2 = []\n",
    "test_normal_nucleoli_4 = []\n",
    "\n",
    "test_mitosis_2 = []\n",
    "test_mitosis_4 = []\n",
    "\n",
    "for i in range(len(dataT.kelas)):\n",
    "    if dataT.kelas[i] == 2:\n",
    "        test_clump_thickness_2.append(dataT.clump_thickness[i])\n",
    "        test_uniformity_of_cell_size_2.append(dataT.uniformity_of_cell_size[i])\n",
    "        test_uniformity_of_cell_shape_2.append(dataT.uniformity_of_cell_shape[i])\n",
    "        test_marginal_adhesion_2.append(dataT.marginal_adhesion[i])\n",
    "        test_single_epithelial_cell_size_2.append(dataT.single_epithelial_cell_size[i])\n",
    "        test_bare_nuclei_2.append(dataT.bare_nuclei[i])\n",
    "        test_bland_chromatin_2.append(dataT.bland_chromatin[i])\n",
    "        test_normal_nucleoli_2.append(dataT.normal_nucleoli[i])\n",
    "        test_mitosis_2.append(dataT.mitosis[i])\n",
    "    else:\n",
    "        test_clump_thickness_4.append(dataT.clump_thickness[i])\n",
    "        test_uniformity_of_cell_size_4.append(dataT.uniformity_of_cell_size[i])\n",
    "        test_uniformity_of_cell_shape_4.append(dataT.uniformity_of_cell_shape[i])\n",
    "        test_marginal_adhesion_4.append(dataT.marginal_adhesion[i])\n",
    "        test_single_epithelial_cell_size_4.append(dataT.single_epithelial_cell_size[i])\n",
    "        test_bare_nuclei_4.append(dataT.bare_nuclei[i])\n",
    "        test_bland_chromatin_4.append(dataT.bland_chromatin[i])\n",
    "        test_normal_nucleoli_4.append(dataT.normal_nucleoli[i])\n",
    "        test_mitosis_4.append(dataT.mitosis[i])\n",
    "        \n",
    "totData2 = list(range(0, len(test_clump_thickness_2)))\n",
    "totData4 = list(range(0, len(test_clump_thickness_4)))"
   ]
  },
  {
   "cell_type": "code",
   "execution_count": 139,
   "metadata": {},
   "outputs": [
    {
     "data": {
      "image/png": "[encoded data removed]",
      "text/plain": [
       "<Figure size 432x288 with 1 Axes>"
      ]
     },
     "metadata": {
      "needs_background": "light"
     },
     "output_type": "display_data"
    },
    {
     "data": {
      "image/png": "[encoded data removed]",
      "text/plain": [
       "<Figure size 432x288 with 1 Axes>"
      ]
     },
     "metadata": {
      "needs_background": "light"
     },
     "output_type": "display_data"
    },
    {
     "data": {
      "image/png": "[encoded data removed]",
      "text/plain": [
       "<Figure size 432x288 with 1 Axes>"
      ]
     },
     "metadata": {
      "needs_background": "light"
     },
     "output_type": "display_data"
    },
    {
     "data": {
      "image/png": "[encoded data removed]",
      "text/plain": [
       "<Figure size 432x288 with 1 Axes>"
      ]
     },
     "metadata": {
      "needs_background": "light"
     },
     "output_type": "display_data"
    },
    {
     "data": {
      "image/png": "[encoded data removed]",
      "text/plain": [
       "<Figure size 432x288 with 1 Axes>"
      ]
     },
     "metadata": {
      "needs_background": "light"
     },
     "output_type": "display_data"
    },
    {
     "data": {
      "image/png": "[encoded data removed]",
      "text/plain": [
       "<Figure size 432x288 with 1 Axes>"
      ]
     },
     "metadata": {
      "needs_background": "light"
     },
     "output_type": "display_data"
    },
    {
     "data": {
      "image/png": "[encoded data removed]",
      "text/plain": [
       "<Figure size 432x288 with 1 Axes>"
      ]
     },
     "metadata": {
      "needs_background": "light"
     },
     "output_type": "display_data"
    },
    {
     "data": {
      "image/png": "[encoded data removed]",
      "text/plain": [
       "<Figure size 432x288 with 1 Axes>"
      ]
     },
     "metadata": {
      "needs_background": "light"
     },
     "output_type": "display_data"
    }
   ],
   "source": [
    "fig1=plt.figure()\n",
    "ax1=fig1.add_axes([0,0,1,1])\n",
    "ax1.scatter(totData2, test_clump_thickness_2, color='r', label='Kelas = 2')\n",
    "ax1.scatter(totData4, test_clump_thickness_4, color='b', label='Kelas = 4')\n",
    "ax1.legend()\n",
    "ax1.set_xlabel('Indeks Data')\n",
    "ax1.set_ylabel('Niai Fitur')\n",
    "ax1.set_title('Hasil Plotting Fitur Clump Thickness')\n",
    "\n",
    "fig2=plt.figure()\n",
    "ax2=fig2.add_axes([0,0,1,1])\n",
    "ax2.scatter(totData2, test_uniformity_of_cell_size_2, color='r', label='Kelas = 2')\n",
    "ax2.scatter(totData4, test_uniformity_of_cell_size_4, color='b', label='Kelas = 4')\n",
    "ax2.legend()\n",
    "ax2.set_xlabel('Indeks Data')\n",
    "ax2.set_ylabel('Niai Fitur')\n",
    "ax2.set_title('Hasil Plotting Fitur Uniformity of Cell Size')\n",
    "\n",
    "fig3=plt.figure()\n",
    "ax3=fig3.add_axes([0,0,1,1])\n",
    "ax3.scatter(totData2, test_uniformity_of_cell_shape_2, color='r', label='Kelas = 2')\n",
    "ax3.scatter(totData4, test_uniformity_of_cell_shape_4, color='b', label='Kelas = 4')\n",
    "ax3.legend()\n",
    "ax3.set_xlabel('Indeks Data')\n",
    "ax3.set_ylabel('Niai Fitur')\n",
    "ax3.set_title('Hasil Plotting Fitur Uniformity of Cell Shape')\n",
    "\n",
    "fig4=plt.figure()\n",
    "ax4=fig4.add_axes([0,0,1,1])\n",
    "ax4.scatter(totData2, test_marginal_adhesion_2, color='r', label='Kelas = 2')\n",
    "ax4.scatter(totData4, test_marginal_adhesion_4, color='b', label='Kelas = 4')\n",
    "ax4.legend()\n",
    "ax4.set_xlabel('Indeks Data')\n",
    "ax4.set_ylabel('Niai Fitur')\n",
    "ax4.set_title('Hasil Plotting Fitur Marginal Adhesion')\n",
    "\n",
    "fig5=plt.figure()\n",
    "ax5=fig5.add_axes([0,0,1,1])\n",
    "ax5.scatter(totData2, test_single_epithelial_cell_size_2, color='r', label='Kelas = 2')\n",
    "ax5.scatter(totData4, test_single_epithelial_cell_size_4, color='b', label='Kelas = 4')\n",
    "ax5.legend()\n",
    "ax5.set_xlabel('Indeks Data')\n",
    "ax5.set_ylabel('Niai Fitur')\n",
    "ax5.set_title('Hasil Plotting Fitur Epithelial Cell')\n",
    "\n",
    "fig6=plt.figure()\n",
    "ax6=fig6.add_axes([0,0,1,1])\n",
    "ax6.scatter(totData2, test_bare_nuclei_2, color='r', label='Kelas = 2')\n",
    "ax6.scatter(totData4, test_bare_nuclei_4, color='b', label='Kelas = 4')\n",
    "ax6.legend()\n",
    "ax6.set_xlabel('Indeks Data')\n",
    "ax6.set_ylabel('Niai Fitur')\n",
    "ax6.set_title('Hasil Plotting Fitur Bare Nuclei')\n",
    "\n",
    "fig7=plt.figure()\n",
    "ax7=fig7.add_axes([0,0,1,1])\n",
    "ax7.scatter(totData2, test_normal_nucleoli_2, color='r', label='Kelas = 2')\n",
    "ax7.scatter(totData4, test_normal_nucleoli_4, color='b', label='Kelas = 4')\n",
    "ax7.legend()\n",
    "ax7.set_xlabel('Indeks Data')\n",
    "ax7.set_ylabel('Niai Fitur')\n",
    "ax7.set_title('Hasil Plotting Fitur Normal Nuclei')\n",
    "\n",
    "fig8=plt.figure()\n",
    "ax8=fig8.add_axes([0,0,1,1])\n",
    "ax8.scatter(totData2, test_mitosis_2, color='r', label='Kelas = 2')\n",
    "ax8.scatter(totData4, test_mitosis_4, color='b', label='Kelas = 4')\n",
    "ax8.legend()\n",
    "ax8.set_xlabel('Indeks Data')\n",
    "ax8.set_ylabel('Niai Fitur')\n",
    "ax8.set_title('Hasil Plotting Fitur Test Mitosis')\n",
    "plt.show()"
   ]
  },
  {
   "cell_type": "markdown",
   "metadata": {},
   "source": [
    "### 2. Menghitung Nilai Posterior"
   ]
  },
  {
   "cell_type": "markdown",
   "metadata": {},
   "source": [
    "Untuk menghitung nilai posterior kalikan semua nilai likelihood pada tiap fitur(kolom) dengan nilai prior untuk tiap kelasnya. "
   ]
  },
  {
   "cell_type": "code",
   "execution_count": 171,
   "metadata": {},
   "outputs": [],
   "source": [
    "posterior_2 = []\n",
    "posterior_4 = []\n",
    "for i in range(len(likelihood_clump_thickness_2)):\n",
    "    posterior_2.append(prior_2 * likelihood_clump_thickness_2[i]*likelihood_uniformity_of_cell_size_2[i]*likelihood_uniformity_of_cell_shape_2[i]*likelihood_marginal_adhesion_2[i]*likelihood_single_epithelial_cell_size_2[i]*likelihood_bare_nuclei_2[i]*likelihood_bland_chromatin_2[i]*likelihood_normal_nucleoli_2[i]*likelihood_mitosis_2[i])\n",
    "    posterior_4.append(prior_4 * likelihood_clump_thickness_4[i]*likelihood_uniformity_of_cell_size_4[i]*likelihood_uniformity_of_cell_shape_4[i]*likelihood_marginal_adhesion_4[i]*likelihood_single_epithelial_cell_size_4[i]*likelihood_bare_nuclei_4[i]*likelihood_bland_chromatin_4[i]*likelihood_normal_nucleoli_4[i]*likelihood_mitosis_4[i])\n",
    "    "
   ]
  },
  {
   "cell_type": "markdown",
   "metadata": {},
   "source": [
    "### 3. Menghitung Data yang Akurat dan Total Akurasinya"
   ]
  },
  {
   "cell_type": "markdown",
   "metadata": {},
   "source": [
    "Setelah mendapatkan nilai posterior untuk tiap kelas yang ada hitung jumlah data hasil klasifikasi yang akurat dengan membandingkan nilai kelas yang awal dan nilai kelas hasil klasifikasi. Selanjutnya hitung total akurasi dengan membagi jumlah data hasil klasifikasi yang akurat dengan total hasil klasifikasi."
   ]
  },
  {
   "cell_type": "code",
   "execution_count": 172,
   "metadata": {},
   "outputs": [
    {
     "name": "stdout",
     "output_type": "stream",
     "text": [
      "95\n",
      "0.95\n"
     ]
    }
   ],
   "source": [
    "decision = []\n",
    "for i in range(len(posterior_2)):\n",
    "    if posterior_2[i]>posterior_4[i]:\n",
    "        decision.append(2)\n",
    "    else:\n",
    "        decision.append(4)\n",
    "akurasi = 0\n",
    "for i in range(len(decision)):\n",
    "    if decision[i] == dataT.kelas[i]:\n",
    "        akurasi += 1\n",
    "print(akurasi)\n",
    "total_akurasi = akurasi/len(decision)\n",
    "print(total_akurasi)\n"
   ]
  },
  {
   "cell_type": "code",
   "execution_count": null,
   "metadata": {},
   "outputs": [],
   "source": []
  }
 ],
 "metadata": {
  "kernelspec": {
   "display_name": "Python 3",
   "language": "python",
   "name": "python3"
  },
  "language_info": {
   "codemirror_mode": {
    "name": "ipython",
    "version": 3
   },
   "file_extension": ".py",
   "mimetype": "text/x-python",
   "name": "python",
   "nbconvert_exporter": "python",
   "pygments_lexer": "ipython3",
   "version": "3.7.5"
  }
 },
 "nbformat": 4,
 "nbformat_minor": 2
}
